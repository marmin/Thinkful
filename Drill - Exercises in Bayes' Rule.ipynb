{
 "cells": [
  {
   "cell_type": "code",
   "execution_count": null,
   "metadata": {
    "collapsed": true
   },
   "outputs": [],
   "source": [
    "P(T)= probability of test +ve\n",
    "P(T~) =probability of test -ve\n",
    "P(D) = probability of person having disease\n",
    "P(D~) = probability of person not having disease\n",
    "\n",
    "probability of positive result for person with Disease = P(T | D)= 98% = 98/100\n",
    "probability of false positive when applied to a non-sufferer= P(T|D~) = 10% = 10/100\n",
    "probability of having disease = P(D)= 0.5%= 5 / 1000\n",
    "P(D~)= 1 - P(D) = 995/1000\n",
    "\n",
    "1. P(T)= ( (5/1000) * (98/100) ) + ( (995/1000) * (10/100))= 0.1044\n",
    "2. Correctly diagnose a sufferer with disease = P(T | D)= 98% = 0.98\n",
    "3. Correctly identify a non-sufferer = P(T~ | D~)= 1- P(T | D~) = 90%= 0.9\n",
    "4. Misclassify the person = P(T | D~) + P(T~ | D)=  (  (995/1000) * (10/100)) + ((5/1000) * (2/100)) = 0.0996\n",
    "\n"
   ]
  }
 ],
 "metadata": {
  "kernelspec": {
   "display_name": "Python 3",
   "language": "python",
   "name": "python3"
  },
  "language_info": {
   "codemirror_mode": {
    "name": "ipython",
    "version": 3
   },
   "file_extension": ".py",
   "mimetype": "text/x-python",
   "name": "python",
   "nbconvert_exporter": "python",
   "pygments_lexer": "ipython3",
   "version": "3.6.3"
  }
 },
 "nbformat": 4,
 "nbformat_minor": 2
}
