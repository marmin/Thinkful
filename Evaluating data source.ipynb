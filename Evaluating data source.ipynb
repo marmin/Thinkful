{
 "cells": [
  {
   "cell_type": "code",
   "execution_count": null,
   "metadata": {
    "collapsed": true
   },
   "outputs": [],
   "source": [
    "#1 : Amsterdam availability data scraped from AirBnB on December 24th:\n",
    "\n",
    "The data may have bias as the timeframe choosen is a holiday time. \n",
    "More AirBnBs may be taken because more people like to go on vacation.\n",
    "We need to choose a period that doesn’t include major holiday, \n",
    "or \n",
    "We can reframe the question to ask : \"popular visiting places during holidays\".\n",
    "\n",
    "#2 : Mental health services use on September 12, 2001 in San Francisco, CA and New York City, NY: \n",
    "Mental health services can be different after a crisis.\n",
    "We can choose a different time period or include more cities \n",
    "We can reframe the question to \"Mental health services use after a crisis vs before crisis\" .\n",
    "or \n",
    "\"Mental health services use between city with crisis and other nearby cities\" .\n",
    "\n",
    "#3 : Armenian Pub Survey: \n",
    "Most of the participants are students. \n",
    "We can add participants of other field or \n",
    "We can reframe  the question to \"Reasons for Students to go to Armenian Pub Survey \""
   ]
  }
 ],
 "metadata": {
  "kernelspec": {
   "display_name": "Python 3",
   "language": "python",
   "name": "python3"
  },
  "language_info": {
   "codemirror_mode": {
    "name": "ipython",
    "version": 3
   },
   "file_extension": ".py",
   "mimetype": "text/x-python",
   "name": "python",
   "nbconvert_exporter": "python",
   "pygments_lexer": "ipython3",
   "version": "3.6.3"
  }
 },
 "nbformat": 4,
 "nbformat_minor": 2
}
