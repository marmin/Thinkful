{
 "cells": [
  {
   "cell_type": "code",
   "execution_count": 19,
   "metadata": {},
   "outputs": [
    {
     "name": "stdout",
     "output_type": "stream",
     "text": [
      "Mean is :  9.857142857142858\n",
      "Median is :  10.0\n",
      "Mode is :  8\n",
      "Standard Deviation is :  2.734262327610589\n",
      "Variance is :  7.476190476190475\n",
      "Standard Error is : 1.03345401972\n",
      "**************************************************\n",
      "Mean is :  10.0\n",
      "Median is :  10.0\n",
      "Mode is :  8\n",
      "Standard Deviation is :  2.516611478423583\n",
      "Variance is :  6.333333333333333\n",
      "Standard Error is : 0.951189731211\n",
      "**************************************************\n",
      "Mean is :  9.0\n",
      "Median is :  10.0\n",
      "No mode\n",
      "Standard Deviation is :  4.242640687119285\n",
      "Variance is :  18.0\n",
      "Standard Error is : 1.60356745147\n"
     ]
    }
   ],
   "source": [
    "import pandas as pd\n",
    "import numpy as np\n",
    "\n",
    "# Question 1 \n",
    "df= pd.DataFrame()\n",
    "df['Age'] = [14,12,11,10,8,6,8]\n",
    "print('Mean is : ',np.mean(df['Age']))\n",
    "print('Median is : ', np.median(df['Age']))\n",
    "\n",
    "(values, count) = np.unique(df['Age'],return_counts=True)\n",
    "ind = np.argmax(count)\n",
    "\n",
    "print('Mode is : ',values[ind])\n",
    "print('Standard Deviation is : ',df['Age'].std())\n",
    "print('Variance is : ',df['Age'].var())\n",
    "print('Standard Error is :', df['Age'].std() / np.sqrt(len(df['Age'])))\n",
    "print('*' * 50)\n",
    "# Question 2\n",
    "# Mean and standard deviation\n",
    "\n",
    "#Question 3\n",
    "\n",
    "df2 = pd.DataFrame()\n",
    "df2['Age'] = [14,12,11,10,8,7,8]\n",
    "print('Mean is : ',np.mean(df2['Age']))\n",
    "print('Median is : ', np.median(df2['Age']))\n",
    "\n",
    "(values, count) = np.unique(df2['Age'],return_counts=True)\n",
    "ind = np.argmax(count)\n",
    "\n",
    "print('Mode is : ',values[ind])\n",
    "print('Standard Deviation is : ',df2['Age'].std())\n",
    "print('Variance is : ',df2['Age'].var())\n",
    "print('Standard Error is :', df2['Age'].std() / np.sqrt(len(df2['Age'])))\n",
    "\n",
    "print('*' * 50)\n",
    "\n",
    "#Question 4\n",
    "\n",
    "df3 = pd.DataFrame()\n",
    "df3['Age'] = [14,12,11,10,8,7,1]\n",
    "print('Mean is : ',np.mean(df3['Age']))\n",
    "print('Median is : ', np.median(df3['Age']))\n",
    "\n",
    "(values, count) = np.unique(df3['Age'],return_counts=True)\n",
    "ind = np.argmax(count)\n",
    "if (ind ==0):\n",
    "    print('No mode')\n",
    "else:\n",
    "    print('Mode is : ',values[ind])\n",
    "print('Standard Deviation is : ',df3['Age'].std())\n",
    "print('Variance is : ',df3['Age'].var())\n",
    "print('Standard Error is :', df3['Age'].std() / np.sqrt(len(df3['Age'])))\n",
    "\n",
    "\n",
    "#Question 5\n",
    "TV Guide 20% \n",
    "fans Entertainment Weekly 23% \n",
    "fans Pop Culture Today 17% \n",
    "fans SciPhi Phanatic 5% \n",
    "% of  Brady Bunch fans = average of above = 16% approximately.\n",
    "But This estimation may not be correct as this dataset is biased because it considered only the readers.\n",
    "We can reframe the question to ask \n",
    "\"what percentage of American readers would you estimate were Brady Bunch fans on the 50th anniversary of the show?\"\n"
   ]
  },
  {
   "cell_type": "code",
   "execution_count": null,
   "metadata": {
    "collapsed": true
   },
   "outputs": [],
   "source": []
  }
 ],
 "metadata": {
  "kernelspec": {
   "display_name": "Python 3",
   "language": "python",
   "name": "python3"
  },
  "language_info": {
   "codemirror_mode": {
    "name": "ipython",
    "version": 3
   },
   "file_extension": ".py",
   "mimetype": "text/x-python",
   "name": "python",
   "nbconvert_exporter": "python",
   "pygments_lexer": "ipython3",
   "version": "3.6.3"
  }
 },
 "nbformat": 4,
 "nbformat_minor": 2
}
