{
 "cells": [
  {
   "cell_type": "code",
   "execution_count": null,
   "metadata": {
    "collapsed": true
   },
   "outputs": [],
   "source": [
    "1.\n",
    "coin flipped 4 times => the sample space = 2 ** 4 = 16\n",
    "From the sample space patterns, the patterns HTTH, HHHH and TTHH each occure once. so probability of each pattern is 1/16\n",
    "\n",
    "2.\n",
    "24 women and 21 men. \n",
    "the probability of selecting a man = P(m)= 21/45\n",
    "the probability of not selecting a man = 1 - P(m)= 1 - (21/45) = 24/45\n",
    "\n",
    "3.\n",
    "The probability of Bernice''s travel by plane = P(a)= 10%. \n",
    "The probability of a plane crash= P(b)= .005%\n",
    "Then probability of a and b happening together= 10% * 0.005% = 0.0005%\n",
    "\n",
    "4.\n",
    "This is a case of biased sample. \n",
    "Reason 1:\n",
    "The chance that the user will be asked for survey is 5%. \n",
    "He might have used many links but not asked for survey and chance is 95%\n",
    "Reason 2:\n",
    "There may be some user who spent more time surfing but not asked for the survey.\n",
    "there may be some user who spent short time but were asked for survey.\n",
    "\n",
    "So the conclusion may not be accurate.\n"
   ]
  }
 ],
 "metadata": {
  "kernelspec": {
   "display_name": "Python 3",
   "language": "python",
   "name": "python3"
  },
  "language_info": {
   "codemirror_mode": {
    "name": "ipython",
    "version": 3
   },
   "file_extension": ".py",
   "mimetype": "text/x-python",
   "name": "python",
   "nbconvert_exporter": "python",
   "pygments_lexer": "ipython3",
   "version": "3.6.3"
  }
 },
 "nbformat": 4,
 "nbformat_minor": 2
}
